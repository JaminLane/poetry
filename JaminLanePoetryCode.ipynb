{
  "nbformat": 4,
  "nbformat_minor": 0,
  "metadata": {
    "colab": {
      "name": "JaminLanePoetryCode.ipynb",
      "provenance": [],
      "authorship_tag": "ABX9TyNttTTtxMvd+4ZMz7HIR6w3",
      "include_colab_link": true
    },
    "kernelspec": {
      "name": "python3",
      "display_name": "Python 3"
    }
  },
  "cells": [
    {
      "cell_type": "markdown",
      "metadata": {
        "id": "view-in-github",
        "colab_type": "text"
      },
      "source": [
        "<a href=\"https://colab.research.google.com/github/JaminLane/poetry/blob/master/JaminLanePoetryCode.ipynb\" target=\"_parent\"><img src=\"https://colab.research.google.com/assets/colab-badge.svg\" alt=\"Open In Colab\"/></a>"
      ]
    },
    {
      "cell_type": "code",
      "metadata": {
        "id": "oIjI4jHK48Ef",
        "colab_type": "code",
        "colab": {
          "base_uri": "https://localhost:8080/",
          "height": 139
        },
        "outputId": "fec6585f-c8bc-405f-d1c5-fabd7c2e1d15"
      },
      "source": [
        "from textblob import TextBlob\n",
        "\n",
        "import random \n",
        "import nltk\n",
        "nltk.download('punkt')\n",
        "nltk.download('averaged_perceptron_tagger')"
      ],
      "execution_count": 28,
      "outputs": [
        {
          "output_type": "stream",
          "text": [
            "[nltk_data] Downloading package punkt to /root/nltk_data...\n",
            "[nltk_data]   Package punkt is already up-to-date!\n",
            "[nltk_data] Downloading package averaged_perceptron_tagger to\n",
            "[nltk_data]     /root/nltk_data...\n",
            "[nltk_data]   Package averaged_perceptron_tagger is already up-to-\n",
            "[nltk_data]       date!\n"
          ],
          "name": "stdout"
        },
        {
          "output_type": "execute_result",
          "data": {
            "text/plain": [
              "True"
            ]
          },
          "metadata": {
            "tags": []
          },
          "execution_count": 28
        }
      ]
    },
    {
      "cell_type": "code",
      "metadata": {
        "id": "4wUr0hmJvl7g",
        "colab_type": "code",
        "colab": {}
      },
      "source": [
        "# this is the text that I will be using http://www.gutenberg.org/files/341/341-0.txt\n",
        "\n",
        "import requests\n",
        "\n",
        "result = requests.get ('http://www.gutenberg.org/files/341/341-0.txt')\n",
        "text = result.text\n",
        "\n",
        "blob = TextBlob(text)\n",
        "\n",
        "sentence_list = blob.sentences\n",
        "tagged_words = blob.tags\n"
      ],
      "execution_count": 25,
      "outputs": []
    },
    {
      "cell_type": "code",
      "metadata": {
        "id": "MOcSYBsn-xmF",
        "colab_type": "code",
        "colab": {}
      },
      "source": [
        "poem_text = \"\"\"\n",
        "Some say the world will end in fire,\n",
        "Some say in ice.\n",
        "From what I’ve tasted of desire\n",
        "I hold with those who favor fire.\n",
        "But if it had to perish twice,\n",
        "I think I know enough of hate\n",
        "To say that for destruction ice\n",
        "Is also great\n",
        "And would suffice.\n",
        "\"\"\"\n",
        "\n",
        "poem_blob = TextBlob(poem_text)\n"
      ],
      "execution_count": 26,
      "outputs": []
    },
    {
      "cell_type": "code",
      "metadata": {
        "id": "hK6thds4BD7A",
        "colab_type": "code",
        "colab": {}
      },
      "source": [
        "singularnouns = []\n",
        "pluralnouns = []\n",
        "adjectives = []\n",
        "\n",
        "for word,pos in blob.tags:\n",
        "  if(pos == 'NN'):\n",
        "    singularnouns.append(word)\n",
        "\n",
        "  if(pos == 'NNS'):\n",
        "    pluralnouns.append(word)\n",
        "    \n",
        "  if(pos == 'JJ'):\n",
        "    adjectives.append(word)"
      ],
      "execution_count": 27,
      "outputs": []
    },
    {
      "cell_type": "code",
      "metadata": {
        "id": "HLhzlAOzALVj",
        "colab_type": "code",
        "colab": {
          "base_uri": "https://localhost:8080/",
          "height": 173
        },
        "outputId": "b7eeca3f-a680-48b3-e89e-c8dd96a100aa"
      },
      "source": [
        "print(\"Some say the world will end in \" + random.choice(pluralnouns))\n",
        "print(\"Some say in \" + random.choice(pluralnouns))\n",
        "print(\"From what I’ve tasted of \" + random.choice(singularnouns))\n",
        "print(\"I hold with those who favor fire.\")\n",
        "print(\"But if it had to perish \" + random.choice(adjectives))\n",
        "print(\"I think I know enough of \" + random.choice(singularnouns))\n",
        "print(\"To say that for destruction ice\")\n",
        "print(\"Is also \" + random.choice(adjectives))\n",
        "print(\"And would suffice.\")"
      ],
      "execution_count": 35,
      "outputs": [
        {
          "output_type": "stream",
          "text": [
            "Some say the world will end in laws\n",
            "Some say inhorses\n",
            "From what I’ve tasted of mouth\n",
            "I hold with those who favor fire.\n",
            "But if it had to perishpoor\n",
            "I think I know enough ofday\n",
            "To say that for destruction ice\n",
            "Is also arrow\n",
            "And would suffice.\n"
          ],
          "name": "stdout"
        }
      ]
    },
    {
      "cell_type": "code",
      "metadata": {
        "id": "eEd8_GrkzpSf",
        "colab_type": "code",
        "colab": {}
      },
      "source": [
        "print(text)"
      ],
      "execution_count": null,
      "outputs": []
    },
    {
      "cell_type": "code",
      "metadata": {
        "id": "QcdWcND5yc_A",
        "colab_type": "code",
        "colab": {
          "base_uri": "https://localhost:8080/",
          "height": 35
        },
        "outputId": "433e987d-1dd2-4d22-a7ee-a55204208c5e"
      },
      "source": [
        "len(text)"
      ],
      "execution_count": 8,
      "outputs": [
        {
          "output_type": "execute_result",
          "data": {
            "text/plain": [
              "262469"
            ]
          },
          "metadata": {
            "tags": []
          },
          "execution_count": 8
        }
      ]
    }
  ]
}